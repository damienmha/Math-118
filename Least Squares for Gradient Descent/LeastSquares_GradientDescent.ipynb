{
 "cells": [
  {
   "cell_type": "markdown",
   "id": "1d2d9254-a390-48df-a477-cad937660fb8",
   "metadata": {},
   "source": [
    "# Gradient Descent for Least Squares"
   ]
  },
  {
   "cell_type": "markdown",
   "id": "c47e451a-7271-43f7-8c38-014e0e5c1b86",
   "metadata": {},
   "source": [
    "## By Damien Ha"
   ]
  },
  {
   "cell_type": "markdown",
   "id": "f14314a2-059b-46c2-be36-c4f6820344d9",
   "metadata": {},
   "source": [
    "### The goal is to write code solving least squares using gradient descent for a random 100x50 matrix A and a random vector b"
   ]
  },
  {
   "cell_type": "code",
   "execution_count": 1,
   "id": "22351fe7-0b2d-45ad-b75a-637c21c5d1fc",
   "metadata": {},
   "outputs": [],
   "source": [
    "import numpy as np"
   ]
  },
  {
   "cell_type": "code",
   "execution_count": 2,
   "id": "8f6ce979-a5e6-4541-a7de-a244de2fd5da",
   "metadata": {},
   "outputs": [
    {
     "name": "stderr",
     "output_type": "stream",
     "text": [
      "/var/folders/cn/swj3wjp16fz0l28fj9k4rpd40000gn/T/ipykernel_10136/2073297493.py:5: FutureWarning: `rcond` parameter will change to the default of machine precision times ``max(M, N)`` where M and N are the input matrix dimensions.\n",
      "To use the future default and silence this warning we advise to pass `rcond=None`, to keep using the old, explicitly pass `rcond=-1`.\n",
      "  x_lstsq = np.linalg.lstsq(A,b)[0]\n"
     ]
    }
   ],
   "source": [
    "np.random.seed(1)\n",
    "A = np.random.randn(100,50)\n",
    "np.random.seed(123)\n",
    "b = np.random.randn(100)\n",
    "x_lstsq = np.linalg.lstsq(A,b)[0]"
   ]
  },
  {
   "cell_type": "code",
   "execution_count": 3,
   "id": "5a13a4d7-e572-4138-9f0b-d83fa98ce1bf",
   "metadata": {},
   "outputs": [],
   "source": [
    "def gdLeastSquares(X, y, alpha, KMax=100):\n",
    "    m, n = X.shape\n",
    "    x = np.zeros(n)\n",
    "    sol = np.linalg.lstsq(X, y)[0]\n",
    "    for i in range(KMax):\n",
    "        x = x - (alpha * 2 * X.T @ (X @ x - y)) \n",
    "        loss = np.linalg.norm(sol - x)\n",
    "    print(loss)\n",
    "    return x"
   ]
  },
  {
   "cell_type": "code",
   "execution_count": 4,
   "id": "4279cf09-eec4-4cf6-9dca-b951d2968f65",
   "metadata": {},
   "outputs": [
    {
     "name": "stdout",
     "output_type": "stream",
     "text": [
      "inf\n",
      "inf\n",
      "1.2451713443476937e+65\n",
      "7.946933993393626e+141\n",
      "2.823563282146214e+24\n",
      "0.6164842624494178\n",
      "0.05599822087879535\n"
     ]
    },
    {
     "name": "stderr",
     "output_type": "stream",
     "text": [
      "/var/folders/cn/swj3wjp16fz0l28fj9k4rpd40000gn/T/ipykernel_10136/1880421965.py:4: FutureWarning: `rcond` parameter will change to the default of machine precision times ``max(M, N)`` where M and N are the input matrix dimensions.\n",
      "To use the future default and silence this warning we advise to pass `rcond=None`, to keep using the old, explicitly pass `rcond=-1`.\n",
      "  sol = np.linalg.lstsq(X, y)[0]\n"
     ]
    },
    {
     "data": {
      "text/plain": [
       "array([-0.19403388, -0.07272938,  0.12420757, -0.10951927,  0.0795882 ,\n",
       "        0.02103008,  0.04737277,  0.04605719,  0.01685219,  0.0994633 ,\n",
       "       -0.20790044, -0.18891498, -0.20901307,  0.13469885, -0.01204544,\n",
       "        0.1615349 ,  0.13874135, -0.15706878, -0.16603728, -0.09942598,\n",
       "        0.05336028, -0.01865161,  0.10931599,  0.25712249,  0.0507226 ,\n",
       "        0.10005394, -0.4296339 ,  0.24227813, -0.24564263, -0.10165644,\n",
       "       -0.02102536,  0.14536426, -0.03337742,  0.14071226, -0.15655136,\n",
       "        0.07973149,  0.16152784,  0.08836002,  0.09479731,  0.2325736 ,\n",
       "        0.37795071,  0.03355309, -0.2717032 , -0.13740868, -0.08097326,\n",
       "        0.16617676, -0.30238157,  0.0194173 , -0.00077003, -0.01675338])"
      ]
     },
     "execution_count": 4,
     "metadata": {},
     "output_type": "execute_result"
    }
   ],
   "source": [
    "gdLeastSquares(A, b, 0.1)\n",
    "gdLeastSquares(A, b, 0.5)\n",
    "gdLeastSquares(A, b, 0.01)\n",
    "gdLeastSquares(A, b, 0.05)\n",
    "gdLeastSquares(A, b, 0.005)\n",
    "gdLeastSquares(A, b, 0.0001)\n",
    "gdLeastSquares(A, b, 0.001)"
   ]
  },
  {
   "cell_type": "code",
   "execution_count": 5,
   "id": "af12e80e-e8ba-42f5-ad47-1611cff63009",
   "metadata": {},
   "outputs": [
    {
     "data": {
      "text/plain": [
       "array([-0.20159267, -0.06216019,  0.13961591, -0.11609638,  0.08398469,\n",
       "        0.03272831,  0.05855855,  0.0378373 ,  0.00842996,  0.09715167,\n",
       "       -0.20491194, -0.19631621, -0.20193052,  0.14534788, -0.00494686,\n",
       "        0.17150753,  0.14288338, -0.15024341, -0.16683708, -0.10690016,\n",
       "        0.05021755, -0.01600393,  0.10721324,  0.26267103,  0.05816455,\n",
       "        0.10863498, -0.4331483 ,  0.24378822, -0.25990653, -0.11233469,\n",
       "       -0.01879346,  0.13836418, -0.03651557,  0.14148642, -0.16791447,\n",
       "        0.07927932,  0.16408174,  0.09573648,  0.09026065,  0.24333671,\n",
       "        0.38398488,  0.04389501, -0.26786785, -0.1507962 , -0.08668292,\n",
       "        0.16657668, -0.31939575,  0.03201048,  0.00509096, -0.01411695])"
      ]
     },
     "execution_count": 5,
     "metadata": {},
     "output_type": "execute_result"
    }
   ],
   "source": [
    "x_lstsq"
   ]
  }
 ],
 "metadata": {
  "kernelspec": {
   "display_name": "Python 3 (ipykernel)",
   "language": "python",
   "name": "python3"
  },
  "language_info": {
   "codemirror_mode": {
    "name": "ipython",
    "version": 3
   },
   "file_extension": ".py",
   "mimetype": "text/x-python",
   "name": "python",
   "nbconvert_exporter": "python",
   "pygments_lexer": "ipython3",
   "version": "3.9.7"
  }
 },
 "nbformat": 4,
 "nbformat_minor": 5
}
