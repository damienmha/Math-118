{
 "cells": [
  {
   "cell_type": "markdown",
   "id": "848dfda4-a1ca-4e8c-b31a-cc526f09ad70",
   "metadata": {},
   "source": [
    "# Principal Component Analysis of Wine Data"
   ]
  },
  {
   "cell_type": "markdown",
   "id": "f83d90f1-70df-4790-a240-679ba7cb1488",
   "metadata": {},
   "source": [
    "## by Damien Ha"
   ]
  },
  {
   "cell_type": "code",
   "execution_count": 1,
   "id": "9512b691-a353-46aa-8a06-adaa456695a4",
   "metadata": {},
   "outputs": [],
   "source": [
    "import os\n",
    "import cv2\n",
    "import numpy as np\n",
    "import pandas as pd\n",
    "import numpy.linalg as la\n",
    "import numpy.random as npr\n",
    "import seaborn as sns\n",
    "import matplotlib.pyplot as plt\n",
    "from sklearn.decomposition import PCA\n",
    "from sklearn.preprocessing import MinMaxScaler\n",
    "from sklearn.model_selection import train_test_split\n",
    "from sklearn.datasets import load_wine\n",
    "wine = load_wine()"
   ]
  },
  {
   "cell_type": "code",
   "execution_count": 2,
   "id": "c62bf9f3-5d2e-4465-a98c-0024d2c62480",
   "metadata": {},
   "outputs": [
    {
     "data": {
      "text/plain": [
       "(178, 13)"
      ]
     },
     "execution_count": 2,
     "metadata": {},
     "output_type": "execute_result"
    }
   ],
   "source": [
    "X = wine.data\n",
    "y = wine.target\n",
    "X.shape"
   ]
  },
  {
   "cell_type": "code",
   "execution_count": 3,
   "id": "bbaadab3-4fac-4e0d-88e5-c63d59b7a6b1",
   "metadata": {},
   "outputs": [
    {
     "data": {
      "text/html": [
       "<div>\n",
       "<style scoped>\n",
       "    .dataframe tbody tr th:only-of-type {\n",
       "        vertical-align: middle;\n",
       "    }\n",
       "\n",
       "    .dataframe tbody tr th {\n",
       "        vertical-align: top;\n",
       "    }\n",
       "\n",
       "    .dataframe thead th {\n",
       "        text-align: right;\n",
       "    }\n",
       "</style>\n",
       "<table border=\"1\" class=\"dataframe\">\n",
       "  <thead>\n",
       "    <tr style=\"text-align: right;\">\n",
       "      <th></th>\n",
       "      <th>alcohol</th>\n",
       "      <th>malic_acid</th>\n",
       "      <th>ash</th>\n",
       "      <th>alcalinity_of_ash</th>\n",
       "      <th>magnesium</th>\n",
       "      <th>total_phenols</th>\n",
       "      <th>flavanoids</th>\n",
       "      <th>nonflavanoid_phenols</th>\n",
       "      <th>proanthocyanins</th>\n",
       "      <th>color_intensity</th>\n",
       "      <th>hue</th>\n",
       "      <th>od280/od315_of_diluted_wines</th>\n",
       "      <th>proline</th>\n",
       "    </tr>\n",
       "  </thead>\n",
       "  <tbody>\n",
       "    <tr>\n",
       "      <th>count</th>\n",
       "      <td>142.000000</td>\n",
       "      <td>142.000000</td>\n",
       "      <td>142.000000</td>\n",
       "      <td>142.000000</td>\n",
       "      <td>142.000000</td>\n",
       "      <td>142.000000</td>\n",
       "      <td>142.000000</td>\n",
       "      <td>142.000000</td>\n",
       "      <td>142.000000</td>\n",
       "      <td>142.000000</td>\n",
       "      <td>142.000000</td>\n",
       "      <td>142.000000</td>\n",
       "      <td>142.000000</td>\n",
       "    </tr>\n",
       "    <tr>\n",
       "      <th>mean</th>\n",
       "      <td>12.979085</td>\n",
       "      <td>2.373521</td>\n",
       "      <td>2.360845</td>\n",
       "      <td>19.473239</td>\n",
       "      <td>100.443662</td>\n",
       "      <td>2.289085</td>\n",
       "      <td>2.002113</td>\n",
       "      <td>0.368028</td>\n",
       "      <td>1.608028</td>\n",
       "      <td>5.057606</td>\n",
       "      <td>0.956380</td>\n",
       "      <td>2.592817</td>\n",
       "      <td>734.894366</td>\n",
       "    </tr>\n",
       "    <tr>\n",
       "      <th>std</th>\n",
       "      <td>0.820116</td>\n",
       "      <td>1.143934</td>\n",
       "      <td>0.279217</td>\n",
       "      <td>3.454792</td>\n",
       "      <td>14.650793</td>\n",
       "      <td>0.637715</td>\n",
       "      <td>1.004170</td>\n",
       "      <td>0.128269</td>\n",
       "      <td>0.583656</td>\n",
       "      <td>2.330917</td>\n",
       "      <td>0.234101</td>\n",
       "      <td>0.722141</td>\n",
       "      <td>302.323595</td>\n",
       "    </tr>\n",
       "    <tr>\n",
       "      <th>min</th>\n",
       "      <td>11.030000</td>\n",
       "      <td>0.890000</td>\n",
       "      <td>1.360000</td>\n",
       "      <td>10.600000</td>\n",
       "      <td>70.000000</td>\n",
       "      <td>0.980000</td>\n",
       "      <td>0.340000</td>\n",
       "      <td>0.130000</td>\n",
       "      <td>0.420000</td>\n",
       "      <td>1.740000</td>\n",
       "      <td>0.480000</td>\n",
       "      <td>1.270000</td>\n",
       "      <td>278.000000</td>\n",
       "    </tr>\n",
       "    <tr>\n",
       "      <th>25%</th>\n",
       "      <td>12.332500</td>\n",
       "      <td>1.615000</td>\n",
       "      <td>2.210000</td>\n",
       "      <td>17.200000</td>\n",
       "      <td>88.250000</td>\n",
       "      <td>1.725000</td>\n",
       "      <td>1.125000</td>\n",
       "      <td>0.270000</td>\n",
       "      <td>1.250000</td>\n",
       "      <td>3.220000</td>\n",
       "      <td>0.782500</td>\n",
       "      <td>1.837500</td>\n",
       "      <td>502.500000</td>\n",
       "    </tr>\n",
       "    <tr>\n",
       "      <th>50%</th>\n",
       "      <td>13.010000</td>\n",
       "      <td>1.875000</td>\n",
       "      <td>2.360000</td>\n",
       "      <td>19.200000</td>\n",
       "      <td>98.000000</td>\n",
       "      <td>2.310000</td>\n",
       "      <td>2.075000</td>\n",
       "      <td>0.340000</td>\n",
       "      <td>1.555000</td>\n",
       "      <td>4.600000</td>\n",
       "      <td>0.965000</td>\n",
       "      <td>2.775000</td>\n",
       "      <td>660.000000</td>\n",
       "    </tr>\n",
       "    <tr>\n",
       "      <th>75%</th>\n",
       "      <td>13.677500</td>\n",
       "      <td>3.135000</td>\n",
       "      <td>2.540000</td>\n",
       "      <td>21.500000</td>\n",
       "      <td>107.000000</td>\n",
       "      <td>2.800000</td>\n",
       "      <td>2.842500</td>\n",
       "      <td>0.470000</td>\n",
       "      <td>1.967500</td>\n",
       "      <td>6.122500</td>\n",
       "      <td>1.120000</td>\n",
       "      <td>3.170000</td>\n",
       "      <td>932.750000</td>\n",
       "    </tr>\n",
       "    <tr>\n",
       "      <th>max</th>\n",
       "      <td>14.830000</td>\n",
       "      <td>5.800000</td>\n",
       "      <td>3.230000</td>\n",
       "      <td>30.000000</td>\n",
       "      <td>162.000000</td>\n",
       "      <td>3.880000</td>\n",
       "      <td>5.080000</td>\n",
       "      <td>0.660000</td>\n",
       "      <td>3.580000</td>\n",
       "      <td>13.000000</td>\n",
       "      <td>1.710000</td>\n",
       "      <td>4.000000</td>\n",
       "      <td>1547.000000</td>\n",
       "    </tr>\n",
       "  </tbody>\n",
       "</table>\n",
       "</div>"
      ],
      "text/plain": [
       "          alcohol  malic_acid         ash  alcalinity_of_ash   magnesium  \\\n",
       "count  142.000000  142.000000  142.000000         142.000000  142.000000   \n",
       "mean    12.979085    2.373521    2.360845          19.473239  100.443662   \n",
       "std      0.820116    1.143934    0.279217           3.454792   14.650793   \n",
       "min     11.030000    0.890000    1.360000          10.600000   70.000000   \n",
       "25%     12.332500    1.615000    2.210000          17.200000   88.250000   \n",
       "50%     13.010000    1.875000    2.360000          19.200000   98.000000   \n",
       "75%     13.677500    3.135000    2.540000          21.500000  107.000000   \n",
       "max     14.830000    5.800000    3.230000          30.000000  162.000000   \n",
       "\n",
       "       total_phenols  flavanoids  nonflavanoid_phenols  proanthocyanins  \\\n",
       "count     142.000000  142.000000            142.000000       142.000000   \n",
       "mean        2.289085    2.002113              0.368028         1.608028   \n",
       "std         0.637715    1.004170              0.128269         0.583656   \n",
       "min         0.980000    0.340000              0.130000         0.420000   \n",
       "25%         1.725000    1.125000              0.270000         1.250000   \n",
       "50%         2.310000    2.075000              0.340000         1.555000   \n",
       "75%         2.800000    2.842500              0.470000         1.967500   \n",
       "max         3.880000    5.080000              0.660000         3.580000   \n",
       "\n",
       "       color_intensity         hue  od280/od315_of_diluted_wines      proline  \n",
       "count       142.000000  142.000000                    142.000000   142.000000  \n",
       "mean          5.057606    0.956380                      2.592817   734.894366  \n",
       "std           2.330917    0.234101                      0.722141   302.323595  \n",
       "min           1.740000    0.480000                      1.270000   278.000000  \n",
       "25%           3.220000    0.782500                      1.837500   502.500000  \n",
       "50%           4.600000    0.965000                      2.775000   660.000000  \n",
       "75%           6.122500    1.120000                      3.170000   932.750000  \n",
       "max          13.000000    1.710000                      4.000000  1547.000000  "
      ]
     },
     "execution_count": 3,
     "metadata": {},
     "output_type": "execute_result"
    }
   ],
   "source": [
    "X_train, X_new, y_train, y_new = train_test_split(X, y, test_size=0.2, random_state=42)\n",
    "df_describe = pd.DataFrame(data = X_train, columns = wine.feature_names)\n",
    "df_describe.describe()"
   ]
  },
  {
   "cell_type": "code",
   "execution_count": 4,
   "id": "450eab27-38ab-4544-8530-2f624b92c043",
   "metadata": {},
   "outputs": [
    {
     "name": "stdout",
     "output_type": "stream",
     "text": [
      "<class 'pandas.core.frame.DataFrame'>\n",
      "RangeIndex: 142 entries, 0 to 141\n",
      "Data columns (total 13 columns):\n",
      " #   Column                        Non-Null Count  Dtype  \n",
      "---  ------                        --------------  -----  \n",
      " 0   alcohol                       142 non-null    float64\n",
      " 1   malic_acid                    142 non-null    float64\n",
      " 2   ash                           142 non-null    float64\n",
      " 3   alcalinity_of_ash             142 non-null    float64\n",
      " 4   magnesium                     142 non-null    float64\n",
      " 5   total_phenols                 142 non-null    float64\n",
      " 6   flavanoids                    142 non-null    float64\n",
      " 7   nonflavanoid_phenols          142 non-null    float64\n",
      " 8   proanthocyanins               142 non-null    float64\n",
      " 9   color_intensity               142 non-null    float64\n",
      " 10  hue                           142 non-null    float64\n",
      " 11  od280/od315_of_diluted_wines  142 non-null    float64\n",
      " 12  proline                       142 non-null    float64\n",
      "dtypes: float64(13)\n",
      "memory usage: 14.5 KB\n"
     ]
    }
   ],
   "source": [
    "df_describe.info()"
   ]
  },
  {
   "cell_type": "code",
   "execution_count": 5,
   "id": "29dda958-61b8-4b85-8bca-07c9de49e3c9",
   "metadata": {},
   "outputs": [
    {
     "data": {
      "text/plain": [
       "(142, 13)"
      ]
     },
     "execution_count": 5,
     "metadata": {},
     "output_type": "execute_result"
    }
   ],
   "source": [
    "scaler = MinMaxScaler()\n",
    "X_train = scaler.fit_transform(X_train)\n",
    "\n",
    "mu = np.mean(X_train,axis = 0, keepdims = True)\n",
    "X_train_tilde = X_train - mu\n",
    "\n",
    "X_train_tilde.shape"
   ]
  },
  {
   "cell_type": "code",
   "execution_count": 6,
   "id": "ee13a74b-7614-4cf2-b96f-45af10a2bc69",
   "metadata": {},
   "outputs": [
    {
     "data": {
      "text/plain": [
       "(142, 2)"
      ]
     },
     "execution_count": 6,
     "metadata": {},
     "output_type": "execute_result"
    }
   ],
   "source": [
    "U,S,VT = np.linalg.svd(X_train_tilde, full_matrices=False)\n",
    "\n",
    "X_2D = X_train_tilde@VT[0:2,:].T\n",
    "X_2D.shape "
   ]
  },
  {
   "cell_type": "code",
   "execution_count": 7,
   "id": "07dcd56b-d2e4-4175-b847-15a450a3ed45",
   "metadata": {},
   "outputs": [
    {
     "data": {
      "image/png": "[encoded data removed]",
      "text/plain": [
       "<Figure size 432x288 with 1 Axes>"
      ]
     },
     "metadata": {
      "needs_background": "light"
     },
     "output_type": "display_data"
    }
   ],
   "source": [
    "plt.plot(S,'bo')\n",
    "plt.title('Singular values')\n",
    "plt.show()"
   ]
  },
  {
   "cell_type": "code",
   "execution_count": 8,
   "id": "8774f213-602a-438f-b668-654bde73837f",
   "metadata": {},
   "outputs": [
    {
     "data": {
      "text/plain": [
       "0.5884627463857175"
      ]
     },
     "execution_count": 8,
     "metadata": {},
     "output_type": "execute_result"
    }
   ],
   "source": [
    "variance = (S[0]**2+S[1]**2)/np.sum(S**2)\n",
    "variance"
   ]
  },
  {
   "cell_type": "code",
   "execution_count": 9,
   "id": "dda188ca-6928-4d33-869b-24a43cf7eaae",
   "metadata": {},
   "outputs": [
    {
     "data": {
      "image/png": "[encoded data removed]",
      "text/plain": [
       "<Figure size 432x288 with 1 Axes>"
      ]
     },
     "metadata": {
      "needs_background": "light"
     },
     "output_type": "display_data"
    }
   ],
   "source": [
    "fig = plt.figure()\n",
    "plt.plot(X_2D[:,0],X_2D[:,1], '*')\n",
    "plt.show()"
   ]
  },
  {
   "cell_type": "code",
   "execution_count": 10,
   "id": "c8cdd3b9-8938-46ef-88c9-48e54c30fcc8",
   "metadata": {},
   "outputs": [
    {
     "data": {
      "image/png": "[encoded data removed]",
      "text/plain": [
       "<Figure size 432x288 with 1 Axes>"
      ]
     },
     "metadata": {
      "needs_background": "light"
     },
     "output_type": "display_data"
    }
   ],
   "source": [
    "fig = plt.figure()\n",
    "v1 = VT[0,:].T\n",
    "Line_of_best_fit = np.zeros([10000,13])\n",
    "i = 0\n",
    "\n",
    "for t in np.linspace(-10,10,10000):\n",
    "    Line_of_best_fit[i,:] = t*v1\n",
    "    i +=1\n",
    "\n",
    "v2 = VT[1,:].T\n",
    "Line_v2 = np.zeros([10000,13])\n",
    "i = 0\n",
    "for t in np.linspace(-5,5,10000):\n",
    "    Line_v2[i,:] = t*v2\n",
    "    i +=1\n",
    "    \n",
    "\n",
    "plt.plot(X_2D[:,0],X_2D[:,1], '*', Line_of_best_fit[:,0],Line_of_best_fit[:,1], Line_v2[:,0], Line_v2[:,1],'k')\n",
    "plt.show()"
   ]
  },
  {
   "cell_type": "code",
   "execution_count": 11,
   "id": "423e0e3f-d715-4b3d-9008-d38d906dcbdb",
   "metadata": {},
   "outputs": [
    {
     "data": {
      "image/png": "[encoded data removed]",
      "text/plain": [
       "<Figure size 432x288 with 1 Axes>"
      ]
     },
     "metadata": {
      "needs_background": "light"
     },
     "output_type": "display_data"
    }
   ],
   "source": [
    "fig = plt.figure()\n",
    "colors = ['red', 'green']\n",
    "labels = [\"Malignant\", \"Benign\"]\n",
    "for i in range(0,2):\n",
    "    plt.scatter(X_2D[:,0][y_train == i],X_2D[:,1][y_train == i], color = colors[i], alpha=0.5, label=labels[i])\n",
    "plt.legend()\n",
    "plt.show()"
   ]
  },
  {
   "cell_type": "markdown",
   "id": "1659a8df-270c-4967-b0a8-a3d8bc4f8a53",
   "metadata": {},
   "source": [
    "PCA stands for principal component analysis, a technique for analyzing data with a large number of dimensions or features per observation. It linearly transforms the data to a subspace that approximates the original data in a lower dimension. The scatter plots above have taken the wine data and reduced it to two dimensions from its original `(178, 13)` shape."
   ]
  },
  {
   "cell_type": "markdown",
   "id": "f7ff6c58-b8e4-45f8-8f03-a2dc5fd0ff78",
   "metadata": {},
   "source": [
    "The variance calculated in the 8th cell shows that the first singular vector accounts for about 58.85% of the data, so a second dimensions is probably needed."
   ]
  },
  {
   "cell_type": "markdown",
   "id": "877488cd-6b7a-4371-a6e1-5074d327ee5f",
   "metadata": {},
   "source": [
    "In the very last scatter plot, there looks to be two distinct classes, so using this representation from PCA we could probably classify the data along those classes."
   ]
  }
 ],
 "metadata": {
  "kernelspec": {
   "display_name": "Python 3 (ipykernel)",
   "language": "python",
   "name": "python3"
  },
  "language_info": {
   "codemirror_mode": {
    "name": "ipython",
    "version": 3
   },
   "file_extension": ".py",
   "mimetype": "text/x-python",
   "name": "python",
   "nbconvert_exporter": "python",
   "pygments_lexer": "ipython3",
   "version": "3.9.7"
  }
 },
 "nbformat": 4,
 "nbformat_minor": 5
}
