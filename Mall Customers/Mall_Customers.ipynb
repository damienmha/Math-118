{
 "cells": [
  {
   "cell_type": "markdown",
   "id": "369b7f18",
   "metadata": {},
   "source": [
    "## Clustering: Mall Customers Data using K-means"
   ]
  },
  {
   "cell_type": "markdown",
   "id": "90c80129",
   "metadata": {},
   "source": [
    "Consider the [Mall Customers Dataset](https://www.kaggle.com/datasets/vjchoudhary7/customer-segmentation-tutorial-in-python). The goal is to perform customer segmentation or clustering using K-means. "
   ]
  },
  {
   "cell_type": "code",
   "execution_count": 1,
   "id": "52c4d6fa",
   "metadata": {},
   "outputs": [],
   "source": [
    "# Standard Imports\n",
    "import numpy as np\n",
    "import pandas as pd\n",
    "import matplotlib.pyplot as plt\n",
    "from sklearn.cluster import KMeans\n",
    "from sklearn.decomposition import NMF\n",
    "from sklearn.preprocessing import MinMaxScaler\n",
    "from sklearn.model_selection import train_test_split"
   ]
  },
  {
   "cell_type": "code",
   "execution_count": 2,
   "id": "ece8a725",
   "metadata": {},
   "outputs": [
    {
     "data": {
      "text/html": [
       "<div>\n",
       "<style scoped>\n",
       "    .dataframe tbody tr th:only-of-type {\n",
       "        vertical-align: middle;\n",
       "    }\n",
       "\n",
       "    .dataframe tbody tr th {\n",
       "        vertical-align: top;\n",
       "    }\n",
       "\n",
       "    .dataframe thead th {\n",
       "        text-align: right;\n",
       "    }\n",
       "</style>\n",
       "<table border=\"1\" class=\"dataframe\">\n",
       "  <thead>\n",
       "    <tr style=\"text-align: right;\">\n",
       "      <th></th>\n",
       "      <th>Genre</th>\n",
       "      <th>Age</th>\n",
       "      <th>Annual Income (k$)</th>\n",
       "      <th>Spending Score (1-100)</th>\n",
       "    </tr>\n",
       "    <tr>\n",
       "      <th>CustomerID</th>\n",
       "      <th></th>\n",
       "      <th></th>\n",
       "      <th></th>\n",
       "      <th></th>\n",
       "    </tr>\n",
       "  </thead>\n",
       "  <tbody>\n",
       "    <tr>\n",
       "      <th>1</th>\n",
       "      <td>Male</td>\n",
       "      <td>19</td>\n",
       "      <td>15</td>\n",
       "      <td>39</td>\n",
       "    </tr>\n",
       "    <tr>\n",
       "      <th>2</th>\n",
       "      <td>Male</td>\n",
       "      <td>21</td>\n",
       "      <td>15</td>\n",
       "      <td>81</td>\n",
       "    </tr>\n",
       "    <tr>\n",
       "      <th>3</th>\n",
       "      <td>Female</td>\n",
       "      <td>20</td>\n",
       "      <td>16</td>\n",
       "      <td>6</td>\n",
       "    </tr>\n",
       "    <tr>\n",
       "      <th>4</th>\n",
       "      <td>Female</td>\n",
       "      <td>23</td>\n",
       "      <td>16</td>\n",
       "      <td>77</td>\n",
       "    </tr>\n",
       "    <tr>\n",
       "      <th>5</th>\n",
       "      <td>Female</td>\n",
       "      <td>31</td>\n",
       "      <td>17</td>\n",
       "      <td>40</td>\n",
       "    </tr>\n",
       "  </tbody>\n",
       "</table>\n",
       "</div>"
      ],
      "text/plain": [
       "             Genre  Age  Annual Income (k$)  Spending Score (1-100)\n",
       "CustomerID                                                         \n",
       "1             Male   19                  15                      39\n",
       "2             Male   21                  15                      81\n",
       "3           Female   20                  16                       6\n",
       "4           Female   23                  16                      77\n",
       "5           Female   31                  17                      40"
      ]
     },
     "execution_count": 2,
     "metadata": {},
     "output_type": "execute_result"
    }
   ],
   "source": [
    "# Load Data\n",
    "df = pd.read_csv('Mall_Customers.csv', index_col=0)\n",
    "df.head()"
   ]
  },
  {
   "cell_type": "code",
   "execution_count": 3,
   "id": "c7bcf86d",
   "metadata": {},
   "outputs": [
    {
     "data": {
      "text/html": [
       "<div>\n",
       "<style scoped>\n",
       "    .dataframe tbody tr th:only-of-type {\n",
       "        vertical-align: middle;\n",
       "    }\n",
       "\n",
       "    .dataframe tbody tr th {\n",
       "        vertical-align: top;\n",
       "    }\n",
       "\n",
       "    .dataframe thead th {\n",
       "        text-align: right;\n",
       "    }\n",
       "</style>\n",
       "<table border=\"1\" class=\"dataframe\">\n",
       "  <thead>\n",
       "    <tr style=\"text-align: right;\">\n",
       "      <th></th>\n",
       "      <th>Age</th>\n",
       "      <th>Annual Income (k$)</th>\n",
       "      <th>Spending Score (1-100)</th>\n",
       "    </tr>\n",
       "  </thead>\n",
       "  <tbody>\n",
       "    <tr>\n",
       "      <th>count</th>\n",
       "      <td>200.000000</td>\n",
       "      <td>200.000000</td>\n",
       "      <td>200.000000</td>\n",
       "    </tr>\n",
       "    <tr>\n",
       "      <th>mean</th>\n",
       "      <td>38.850000</td>\n",
       "      <td>60.560000</td>\n",
       "      <td>50.200000</td>\n",
       "    </tr>\n",
       "    <tr>\n",
       "      <th>std</th>\n",
       "      <td>13.969007</td>\n",
       "      <td>26.264721</td>\n",
       "      <td>25.823522</td>\n",
       "    </tr>\n",
       "    <tr>\n",
       "      <th>min</th>\n",
       "      <td>18.000000</td>\n",
       "      <td>15.000000</td>\n",
       "      <td>1.000000</td>\n",
       "    </tr>\n",
       "    <tr>\n",
       "      <th>25%</th>\n",
       "      <td>28.750000</td>\n",
       "      <td>41.500000</td>\n",
       "      <td>34.750000</td>\n",
       "    </tr>\n",
       "    <tr>\n",
       "      <th>50%</th>\n",
       "      <td>36.000000</td>\n",
       "      <td>61.500000</td>\n",
       "      <td>50.000000</td>\n",
       "    </tr>\n",
       "    <tr>\n",
       "      <th>75%</th>\n",
       "      <td>49.000000</td>\n",
       "      <td>78.000000</td>\n",
       "      <td>73.000000</td>\n",
       "    </tr>\n",
       "    <tr>\n",
       "      <th>max</th>\n",
       "      <td>70.000000</td>\n",
       "      <td>137.000000</td>\n",
       "      <td>99.000000</td>\n",
       "    </tr>\n",
       "  </tbody>\n",
       "</table>\n",
       "</div>"
      ],
      "text/plain": [
       "              Age  Annual Income (k$)  Spending Score (1-100)\n",
       "count  200.000000          200.000000              200.000000\n",
       "mean    38.850000           60.560000               50.200000\n",
       "std     13.969007           26.264721               25.823522\n",
       "min     18.000000           15.000000                1.000000\n",
       "25%     28.750000           41.500000               34.750000\n",
       "50%     36.000000           61.500000               50.000000\n",
       "75%     49.000000           78.000000               73.000000\n",
       "max     70.000000          137.000000               99.000000"
      ]
     },
     "execution_count": 3,
     "metadata": {},
     "output_type": "execute_result"
    }
   ],
   "source": [
    "df.describe()"
   ]
  },
  {
   "cell_type": "code",
   "execution_count": 4,
   "id": "f86ff298",
   "metadata": {},
   "outputs": [
    {
     "data": {
      "text/plain": [
       "Genre                     0\n",
       "Age                       0\n",
       "Annual Income (k$)        0\n",
       "Spending Score (1-100)    0\n",
       "dtype: int64"
      ]
     },
     "execution_count": 4,
     "metadata": {},
     "output_type": "execute_result"
    }
   ],
   "source": [
    "# Check for missing data\n",
    "df.isnull().sum()"
   ]
  },
  {
   "cell_type": "code",
   "execution_count": 5,
   "id": "4d1be8ad",
   "metadata": {},
   "outputs": [
    {
     "data": {
      "text/html": [
       "<div>\n",
       "<style scoped>\n",
       "    .dataframe tbody tr th:only-of-type {\n",
       "        vertical-align: middle;\n",
       "    }\n",
       "\n",
       "    .dataframe tbody tr th {\n",
       "        vertical-align: top;\n",
       "    }\n",
       "\n",
       "    .dataframe thead th {\n",
       "        text-align: right;\n",
       "    }\n",
       "</style>\n",
       "<table border=\"1\" class=\"dataframe\">\n",
       "  <thead>\n",
       "    <tr style=\"text-align: right;\">\n",
       "      <th></th>\n",
       "      <th>Annual Income (k$)</th>\n",
       "      <th>Spending Score (1-100)</th>\n",
       "    </tr>\n",
       "    <tr>\n",
       "      <th>CustomerID</th>\n",
       "      <th></th>\n",
       "      <th></th>\n",
       "    </tr>\n",
       "  </thead>\n",
       "  <tbody>\n",
       "    <tr>\n",
       "      <th>1</th>\n",
       "      <td>15</td>\n",
       "      <td>39</td>\n",
       "    </tr>\n",
       "    <tr>\n",
       "      <th>2</th>\n",
       "      <td>15</td>\n",
       "      <td>81</td>\n",
       "    </tr>\n",
       "    <tr>\n",
       "      <th>3</th>\n",
       "      <td>16</td>\n",
       "      <td>6</td>\n",
       "    </tr>\n",
       "    <tr>\n",
       "      <th>4</th>\n",
       "      <td>16</td>\n",
       "      <td>77</td>\n",
       "    </tr>\n",
       "    <tr>\n",
       "      <th>5</th>\n",
       "      <td>17</td>\n",
       "      <td>40</td>\n",
       "    </tr>\n",
       "  </tbody>\n",
       "</table>\n",
       "</div>"
      ],
      "text/plain": [
       "            Annual Income (k$)  Spending Score (1-100)\n",
       "CustomerID                                            \n",
       "1                           15                      39\n",
       "2                           15                      81\n",
       "3                           16                       6\n",
       "4                           16                      77\n",
       "5                           17                      40"
      ]
     },
     "execution_count": 5,
     "metadata": {},
     "output_type": "execute_result"
    }
   ],
   "source": [
    "# Drop Categorical data\n",
    "df.drop(['Genre'], axis=1, inplace=True)\n",
    "df.drop(['Age'], axis=1, inplace=True)\n",
    "df.head()"
   ]
  },
  {
   "cell_type": "code",
   "execution_count": 6,
   "id": "4a032e4d",
   "metadata": {},
   "outputs": [
    {
     "data": {
      "text/html": [
       "<div>\n",
       "<style scoped>\n",
       "    .dataframe tbody tr th:only-of-type {\n",
       "        vertical-align: middle;\n",
       "    }\n",
       "\n",
       "    .dataframe tbody tr th {\n",
       "        vertical-align: top;\n",
       "    }\n",
       "\n",
       "    .dataframe thead th {\n",
       "        text-align: right;\n",
       "    }\n",
       "</style>\n",
       "<table border=\"1\" class=\"dataframe\">\n",
       "  <thead>\n",
       "    <tr style=\"text-align: right;\">\n",
       "      <th></th>\n",
       "      <th>Annual Income (k$)</th>\n",
       "      <th>Spending Score (1-100)</th>\n",
       "    </tr>\n",
       "    <tr>\n",
       "      <th>CustomerID</th>\n",
       "      <th></th>\n",
       "      <th></th>\n",
       "    </tr>\n",
       "  </thead>\n",
       "  <tbody>\n",
       "    <tr>\n",
       "      <th>29</th>\n",
       "      <td>29</td>\n",
       "      <td>31</td>\n",
       "    </tr>\n",
       "    <tr>\n",
       "      <th>156</th>\n",
       "      <td>78</td>\n",
       "      <td>89</td>\n",
       "    </tr>\n",
       "    <tr>\n",
       "      <th>177</th>\n",
       "      <td>88</td>\n",
       "      <td>15</td>\n",
       "    </tr>\n",
       "    <tr>\n",
       "      <th>16</th>\n",
       "      <td>20</td>\n",
       "      <td>79</td>\n",
       "    </tr>\n",
       "    <tr>\n",
       "      <th>3</th>\n",
       "      <td>16</td>\n",
       "      <td>6</td>\n",
       "    </tr>\n",
       "  </tbody>\n",
       "</table>\n",
       "</div>"
      ],
      "text/plain": [
       "            Annual Income (k$)  Spending Score (1-100)\n",
       "CustomerID                                            \n",
       "29                          29                      31\n",
       "156                         78                      89\n",
       "177                         88                      15\n",
       "16                          20                      79\n",
       "3                           16                       6"
      ]
     },
     "execution_count": 6,
     "metadata": {},
     "output_type": "execute_result"
    }
   ],
   "source": [
    "# Shuffle data\n",
    "data = df.sample(frac=1)\n",
    "data.head()"
   ]
  },
  {
   "cell_type": "code",
   "execution_count": 7,
   "id": "44d854a0",
   "metadata": {},
   "outputs": [
    {
     "data": {
      "text/plain": [
       "(200, 2)"
      ]
     },
     "execution_count": 7,
     "metadata": {},
     "output_type": "execute_result"
    }
   ],
   "source": [
    "# Convert to numpy array\n",
    "X = data.to_numpy()\n",
    "X.shape"
   ]
  },
  {
   "cell_type": "markdown",
   "id": "0a4299c9",
   "metadata": {},
   "source": [
    "**Part a**: Standardize the features to be in the range (0,1)."
   ]
  },
  {
   "cell_type": "code",
   "execution_count": 8,
   "id": "bcc41640",
   "metadata": {},
   "outputs": [
    {
     "data": {
      "text/plain": [
       "array([[0.1147541 , 0.30612245],\n",
       "       [0.51639344, 0.89795918],\n",
       "       [0.59836066, 0.14285714],\n",
       "       [0.04098361, 0.79591837],\n",
       "       [0.00819672, 0.05102041],\n",
       "       [0.51639344, 0.73469388],\n",
       "       [0.59836066, 0.86734694],\n",
       "       [0.36885246, 0.39795918],\n",
       "       [0.47540984, 0.06122449],\n",
       "       [0.31967213, 0.43877551],\n",
       "       [0.31967213, 0.40816327],\n",
       "       [0.31967213, 0.52040816],\n",
       "       [0.49180328, 0.04081633],\n",
       "       [0.59836066, 0.12244898],\n",
       "       [0.20491803, 0.41836735],\n",
       "       [0.18032787, 0.25510204],\n",
       "       [0.48360656, 0.7244898 ],\n",
       "       [0.67213115, 0.86734694],\n",
       "       [0.35245902, 0.60204082],\n",
       "       [0.51639344, 0.8877551 ],\n",
       "       [0.39344262, 0.45918367],\n",
       "       [0.10655738, 0.31632653],\n",
       "       [0.42622951, 0.56122449],\n",
       "       [0.45901639, 0.10204082],\n",
       "       [0.3442623 , 0.58163265],\n",
       "       [0.46721311, 0.71428571],\n",
       "       [0.72131148, 0.85714286],\n",
       "       [0.31967213, 0.47959184],\n",
       "       [0.2704918 , 0.5       ],\n",
       "       [0.45901639, 0.75510204],\n",
       "       [0.70491803, 0.23469388],\n",
       "       [0.06557377, 0.98979592],\n",
       "       [0.04098361, 0.14285714],\n",
       "       [0.1557377 , 0.73469388],\n",
       "       [0.2295082 , 0.40816327],\n",
       "       [0.58196721, 0.19387755],\n",
       "       [0.07377049, 0.34693878],\n",
       "       [0.12295082, 0.03061224],\n",
       "       [0.42622951, 0.57142857],\n",
       "       [0.31967213, 0.41836735],\n",
       "       [0.25409836, 0.45918367],\n",
       "       [0.19672131, 0.35714286],\n",
       "       [0.3852459 , 0.41836735],\n",
       "       [0.40983607, 0.5       ],\n",
       "       [0.46721311, 0.33673469],\n",
       "       [0.5       , 0.39795918],\n",
       "       [0.39344262, 0.5       ],\n",
       "       [0.2295082 , 0.60204082],\n",
       "       [0.42622951, 0.39795918],\n",
       "       [0.40983607, 0.59183673],\n",
       "       [0.51639344, 0.78571429],\n",
       "       [0.19672131, 0.6122449 ],\n",
       "       [0.31967213, 0.57142857],\n",
       "       [0.5       , 0.87755102],\n",
       "       [0.23770492, 0.5       ],\n",
       "       [0.        , 0.3877551 ],\n",
       "       [0.18852459, 0.34693878],\n",
       "       [0.42622951, 0.42857143],\n",
       "       [0.04098361, 0.7755102 ],\n",
       "       [0.22131148, 0.60204082],\n",
       "       [0.25409836, 0.56122449],\n",
       "       [0.59016393, 0.92857143],\n",
       "       [0.80327869, 0.91836735],\n",
       "       [0.25409836, 0.51020408],\n",
       "       [0.80327869, 0.07142857],\n",
       "       [0.12295082, 0.73469388],\n",
       "       [0.63934426, 0.90816327],\n",
       "       [0.28688525, 0.48979592],\n",
       "       [0.36885246, 0.5       ],\n",
       "       [0.68852459, 0.3877551 ],\n",
       "       [0.14754098, 0.92857143],\n",
       "       [0.40163934, 0.41836735],\n",
       "       [0.39344262, 0.42857143],\n",
       "       [0.01639344, 0.76530612],\n",
       "       [0.03278689, 1.        ],\n",
       "       [0.10655738, 0.13265306],\n",
       "       [0.36885246, 0.41836735],\n",
       "       [0.2704918 , 0.46938776],\n",
       "       [0.68032787, 0.14285714],\n",
       "       [0.20491803, 0.46938776],\n",
       "       [0.40983607, 0.42857143],\n",
       "       [0.72131148, 0.16326531],\n",
       "       [0.14754098, 0.81632653],\n",
       "       [0.86065574, 0.15306122],\n",
       "       [0.03278689, 0.02040816],\n",
       "       [0.3852459 , 0.55102041],\n",
       "       [0.00819672, 0.7755102 ],\n",
       "       [0.68852459, 0.97959184],\n",
       "       [0.1557377 , 0.16326531],\n",
       "       [0.14754098, 0.13265306],\n",
       "       [0.10655738, 0.6122449 ],\n",
       "       [0.70491803, 0.68367347],\n",
       "       [0.39344262, 0.52040816],\n",
       "       [0.50819672, 0.97959184],\n",
       "       [0.51639344, 0.21428571],\n",
       "       [0.51639344, 0.90816327],\n",
       "       [0.3852459 , 0.59183673],\n",
       "       [0.59836066, 0.69387755],\n",
       "       [0.03278689, 0.7244898 ],\n",
       "       [0.90983607, 0.74489796],\n",
       "       [1.        , 0.83673469],\n",
       "       [0.04918033, 0.34693878],\n",
       "       [1.        , 0.17346939],\n",
       "       [0.45901639, 0.08163265],\n",
       "       [0.59016393, 0.63265306],\n",
       "       [0.44262295, 0.91836735],\n",
       "       [0.59016393, 0.12244898],\n",
       "       [0.36065574, 0.40816327],\n",
       "       [0.27868852, 0.41836735],\n",
       "       [0.45901639, 0.95918367],\n",
       "       [0.02459016, 0.94897959],\n",
       "       [0.50819672, 0.74489796],\n",
       "       [0.36885246, 0.52040816],\n",
       "       [0.68032787, 0.8877551 ],\n",
       "       [0.18032787, 0.75510204],\n",
       "       [0.72131148, 0.2244898 ],\n",
       "       [0.06557377, 0.28571429],\n",
       "       [0.31967213, 0.55102041],\n",
       "       [0.3852459 , 0.56122449],\n",
       "       [0.14754098, 0.03061224],\n",
       "       [0.59016393, 0.75510204],\n",
       "       [0.2704918 , 0.51020408],\n",
       "       [0.45901639, 0.34693878],\n",
       "       [0.26229508, 0.59183673],\n",
       "       [0.86065574, 0.79591837],\n",
       "       [0.03278689, 0.13265306],\n",
       "       [0.72131148, 0.69387755],\n",
       "       [0.20491803, 0.41836735],\n",
       "       [0.04098361, 0.12244898],\n",
       "       [0.47540984, 0.73469388],\n",
       "       [0.51639344, 0.16326531],\n",
       "       [0.47540984, 0.8877551 ],\n",
       "       [0.37704918, 0.41836735],\n",
       "       [0.50819672, 0.35714286],\n",
       "       [0.51639344, 0.15306122],\n",
       "       [0.45081967, 0.7755102 ],\n",
       "       [0.20491803, 0.55102041],\n",
       "       [0.31967213, 0.45918367],\n",
       "       [0.31967213, 0.46938776],\n",
       "       [0.3852459 , 0.40816327],\n",
       "       [0.37704918, 0.48979592],\n",
       "       [0.3442623 , 0.55102041],\n",
       "       [0.23770492, 0.45918367],\n",
       "       [0.52459016, 0.83673469],\n",
       "       [0.26229508, 0.52040816],\n",
       "       [0.58196721, 0.95918367],\n",
       "       [0.36065574, 0.55102041],\n",
       "       [0.2704918 , 0.47959184],\n",
       "       [0.39344262, 0.47959184],\n",
       "       [0.2704918 , 0.59183673],\n",
       "       [0.22131148, 0.52040816],\n",
       "       [0.36885246, 0.48979592],\n",
       "       [0.39344262, 0.54081633],\n",
       "       [0.57377049, 0.25510204],\n",
       "       [0.40163934, 0.45918367],\n",
       "       [0.54098361, 0.04081633],\n",
       "       [0.2295082 , 0.44897959],\n",
       "       [0.28688525, 0.56122449],\n",
       "       [0.04918033, 0.66326531],\n",
       "       [0.59016393, 0.09183673],\n",
       "       [0.67213115, 0.31632653],\n",
       "       [0.31967213, 0.53061224],\n",
       "       [0.45081967, 0.28571429],\n",
       "       [0.2295082 , 0.54081633],\n",
       "       [0.19672131, 0.65306122],\n",
       "       [0.45901639, 0.75510204],\n",
       "       [0.31967213, 0.51020408],\n",
       "       [0.51639344, 0.        ],\n",
       "       [0.02459016, 0.05102041],\n",
       "       [0.50819672, 0.1122449 ],\n",
       "       [0.08196721, 0.73469388],\n",
       "       [0.52459016, 0.34693878],\n",
       "       [0.25409836, 0.55102041],\n",
       "       [0.54098361, 0.93877551],\n",
       "       [0.19672131, 0.2755102 ],\n",
       "       [0.49180328, 0.93877551],\n",
       "       [0.27868852, 0.55102041],\n",
       "       [0.10655738, 0.82653061],\n",
       "       [0.47540984, 0.04081633],\n",
       "       [0.        , 0.81632653],\n",
       "       [0.01639344, 0.39795918],\n",
       "       [0.1147541 , 0.87755102],\n",
       "       [0.44262295, 0.58163265],\n",
       "       [0.35245902, 0.45918367],\n",
       "       [0.08196721, 0.04081633],\n",
       "       [0.40983607, 0.47959184],\n",
       "       [0.51639344, 0.        ],\n",
       "       [0.07377049, 0.73469388],\n",
       "       [0.57377049, 0.75510204],\n",
       "       [0.63934426, 0.13265306],\n",
       "       [0.51639344, 0.19387755],\n",
       "       [0.90983607, 0.2755102 ],\n",
       "       [0.36885246, 0.46938776],\n",
       "       [0.2704918 , 0.59183673],\n",
       "       [0.3852459 , 0.47959184],\n",
       "       [0.51639344, 0.76530612],\n",
       "       [0.31967213, 0.54081633],\n",
       "       [0.18852459, 0.92857143],\n",
       "       [0.59016393, 0.26530612],\n",
       "       [0.48360656, 0.09183673]])"
      ]
     },
     "execution_count": 8,
     "metadata": {},
     "output_type": "execute_result"
    }
   ],
   "source": [
    "# Standardize the features to be in the range (0,1). See notebook of lecture 6.\n",
    "scaler = MinMaxScaler()\n",
    "X = scaler.fit_transform(X)\n",
    "X"
   ]
  },
  {
   "cell_type": "markdown",
   "id": "89c74a6a",
   "metadata": {},
   "source": [
    "**Part b**: Search for ``optimal\" number of clusters using the elbow method. "
   ]
  },
  {
   "cell_type": "code",
   "execution_count": 10,
   "id": "e18907ce",
   "metadata": {},
   "outputs": [
    {
     "data": {
      "image/png": "[encoded data removed]",
      "text/plain": [
       "<Figure size 432x288 with 1 Axes>"
      ]
     },
     "metadata": {
      "needs_background": "light"
     },
     "output_type": "display_data"
    }
   ],
   "source": [
    "# Search for \"optimal\" number of clusters. See notebook of lecture 7.\n",
    "SS_dist = []\n",
    "K = range(1,10)\n",
    "for num_clusters in K :\n",
    "    kmeans = KMeans(n_clusters=num_clusters)\n",
    "    kmeans.fit(X)\n",
    "    SS_dist.append(kmeans.inertia_)\n",
    "plt.plot(K,SS_dist,'bx-')\n",
    "plt.xlabel('Number of clusters $K$') \n",
    "plt.ylabel('Sum of squared distances') \n",
    "plt.title('Elbow Method For Optimal $K$')\n",
    "plt.show()"
   ]
  },
  {
   "cell_type": "markdown",
   "id": "071e1456",
   "metadata": {},
   "source": [
    "**Part c**: Run K-Means with the ``optimal\" number of clusters you found in part (b)."
   ]
  },
  {
   "cell_type": "code",
   "execution_count": 11,
   "id": "6858b8c4",
   "metadata": {},
   "outputs": [],
   "source": [
    "#Run K-Means\n",
    "kmeans = KMeans(n_clusters=5, random_state=0).fit(X)"
   ]
  },
  {
   "cell_type": "code",
   "execution_count": 12,
   "id": "8da9bd1d",
   "metadata": {},
   "outputs": [
    {
     "data": {
      "text/plain": [
       "array([1, 2, 4, 3, 1, 2, 2, 0, 4, 0, 0, 0, 4, 4, 0, 1, 2, 2, 0, 2, 0, 1,\n",
       "       0, 4, 0, 2, 2, 0, 0, 2, 4, 3, 1, 3, 0, 4, 1, 1, 0, 0, 0, 1, 0, 0,\n",
       "       0, 0, 0, 0, 0, 0, 2, 0, 0, 2, 0, 1, 1, 0, 3, 0, 0, 2, 2, 0, 4, 3,\n",
       "       2, 0, 0, 4, 3, 0, 0, 3, 3, 1, 0, 0, 4, 0, 0, 4, 3, 4, 1, 0, 3, 2,\n",
       "       1, 1, 3, 2, 0, 2, 4, 2, 0, 2, 3, 2, 2, 1, 4, 4, 2, 2, 4, 0, 0, 2,\n",
       "       3, 2, 0, 2, 3, 4, 1, 0, 0, 1, 2, 0, 0, 0, 2, 1, 2, 0, 1, 2, 4, 2,\n",
       "       0, 4, 4, 2, 0, 0, 0, 0, 0, 0, 0, 2, 0, 2, 0, 0, 0, 0, 0, 0, 0, 4,\n",
       "       0, 4, 0, 0, 3, 4, 4, 0, 4, 0, 3, 2, 0, 4, 1, 4, 3, 4, 0, 2, 1, 2,\n",
       "       0, 3, 4, 3, 1, 3, 0, 0, 1, 0, 4, 3, 2, 4, 4, 4, 0, 0, 0, 2, 0, 3,\n",
       "       4, 4], dtype=int32)"
      ]
     },
     "execution_count": 12,
     "metadata": {},
     "output_type": "execute_result"
    }
   ],
   "source": [
    "# Partition vector\n",
    "Partition_vec = kmeans.labels_\n",
    "Partition_vec"
   ]
  },
  {
   "cell_type": "code",
   "execution_count": 13,
   "id": "0a6fd111",
   "metadata": {},
   "outputs": [
    {
     "data": {
      "text/plain": [
       "array([[0.33029751, 0.49508692],\n",
       "       [0.09265859, 0.20319432],\n",
       "       [0.58638083, 0.82783883],\n",
       "       [0.08792846, 0.79962894],\n",
       "       [0.6       , 0.16443149]])"
      ]
     },
     "execution_count": 13,
     "metadata": {},
     "output_type": "execute_result"
    }
   ],
   "source": [
    "# Centroids\n",
    "centers = kmeans.cluster_centers_\n",
    "centers"
   ]
  },
  {
   "cell_type": "code",
   "execution_count": 14,
   "id": "d2a0fc78",
   "metadata": {},
   "outputs": [
    {
     "data": {
      "image/png": "[encoded data removed]",
      "text/plain": [
       "<Figure size 576x432 with 1 Axes>"
      ]
     },
     "metadata": {
      "needs_background": "light"
     },
     "output_type": "display_data"
    }
   ],
   "source": [
    "# Let's view our results\n",
    "plt.figure(figsize=(8, 6))\n",
    "\n",
    "plt.scatter(X[:,0], X[:,1], c=Partition_vec)\n",
    "\n",
    "plt.scatter(centers[:,0], centers[:,1], color='red', marker='x') \n",
    "\n",
    "plt.xlabel('Annual Income')\n",
    "plt.ylabel('Spending Score')\n",
    "\n",
    "plt.show()"
   ]
  },
  {
   "cell_type": "markdown",
   "id": "17010866",
   "metadata": {},
   "source": [
    "**Part d**: Suppose you have a new customer with income 75k$ and spending score 38. Based on K-means algorithm, explain how you would determine which cluster the new data point belongs to. Justify your answer."
   ]
  },
  {
   "cell_type": "markdown",
   "id": "ad7abe62",
   "metadata": {},
   "source": [
    "In this case, we'd first have to standardize the \\\\$75k income and 38 spending score as this is what we did for the rest of the data points. Then we would plot the point and classify it based on which centroid it was closest to because k-means has classified the other data points into clusters where the points closest to a certain centroid are part of the same cluster."
   ]
  },
  {
   "cell_type": "markdown",
   "id": "169ddec3",
   "metadata": {},
   "source": [
    "**Part e**: Plot this new data point on the scatter plot."
   ]
  },
  {
   "cell_type": "code",
   "execution_count": 26,
   "id": "ee63e611",
   "metadata": {},
   "outputs": [
    {
     "data": {
      "image/png": "[encoded data removed]",
      "text/plain": [
       "<Figure size 576x432 with 1 Axes>"
      ]
     },
     "metadata": {
      "needs_background": "light"
     },
     "output_type": "display_data"
    }
   ],
   "source": [
    "plt.figure(figsize=(8, 6))\n",
    "\n",
    "plt.scatter(X[:,0], X[:,1], c=Partition_vec)\n",
    "\n",
    "plt.scatter(centers[:,0], centers[:,1], color='red', marker='x') \n",
    "\n",
    "plt.xlabel('Annual Income')\n",
    "plt.ylabel('Spending Score')\n",
    "\n",
    "plt.scatter(((75 - 60.56) / 26.264721) , (abs(38 - 50.2) / 25.823522), color='red')\n",
    "plt.show()"
   ]
  },
  {
   "cell_type": "markdown",
   "id": "9cb041d3",
   "metadata": {},
   "source": [
    "**Part f**: Suppose instead of having only two features, we had 10 features to work with. Name one method you could use to visualize the clusters in $\\mathbb R^2$ or $\\mathbb R^3$."
   ]
  },
  {
   "cell_type": "markdown",
   "id": "04e06e15",
   "metadata": {},
   "source": [
    "You could use PCA to visualize the clusters in $\\mathbb R^2$ or $\\mathbb R^3$ because this could reduce the dimensions down to 2 or 3 while representing the same overall data"
   ]
  }
 ],
 "metadata": {
  "kernelspec": {
   "display_name": "Python 3 (ipykernel)",
   "language": "python",
   "name": "python3"
  },
  "language_info": {
   "codemirror_mode": {
    "name": "ipython",
    "version": 3
   },
   "file_extension": ".py",
   "mimetype": "text/x-python",
   "name": "python",
   "nbconvert_exporter": "python",
   "pygments_lexer": "ipython3",
   "version": "3.9.7"
  }
 },
 "nbformat": 4,
 "nbformat_minor": 5
}
